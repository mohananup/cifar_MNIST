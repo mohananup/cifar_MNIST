{
  "nbformat": 4,
  "nbformat_minor": 0,
  "metadata": {
    "colab": {
      "provenance": [],
      "authorship_tag": "ABX9TyOPj9y2jA3pRii7+W6znTKx",
      "include_colab_link": true
    },
    "kernelspec": {
      "name": "python3",
      "display_name": "Python 3"
    },
    "language_info": {
      "name": "python"
    }
  },
  "cells": [
    {
      "cell_type": "markdown",
      "metadata": {
        "id": "view-in-github",
        "colab_type": "text"
      },
      "source": [
        "<a href=\"https://colab.research.google.com/github/mohananup/cifar_MNIST/blob/main/cifar_mnist_cnn.ipynb\" target=\"_parent\"><img src=\"https://colab.research.google.com/assets/colab-badge.svg\" alt=\"Open In Colab\"/></a>"
      ]
    },
    {
      "cell_type": "code",
      "source": [
        "import tensorflow as tf\n",
        "from keras.datasets import cifar10\n",
        "import numpy as np\n",
        "import numpy.random as nr\n",
        "import matplotlib.pyplot as plt\n",
        "from keras.models import Sequential\n",
        "from keras.layers import Dense\n",
        "from sklearn.metrics import accuracy_score\n",
        "from keras.layers import Conv2D\n",
        "from keras.layers import BatchNormalization\n",
        "from keras.layers import MaxPooling2D\n",
        "from keras.layers import Flatten\n",
        "from keras.layers import Dropout"
      ],
      "metadata": {
        "id": "yzxQv1LT9XJ5"
      },
      "execution_count": 2,
      "outputs": []
    },
    {
      "cell_type": "code",
      "execution_count": 3,
      "metadata": {
        "id": "9gGlWSet5Bqp"
      },
      "outputs": [],
      "source": [
        "nc = 10 # Number of classes\n",
        "\n",
        "\n",
        "#CIFAR is an acronym that stands for the Canadian\n",
        "#Institute For Advanced Research and the CIFAR-10\n",
        "#dataset was developed along with the CIFAR-100\n",
        "#dataset by researchers at the CIFAR institute.\n",
        "\n",
        "#The dataset is comprised of 60,000 32×32\n",
        "#pixel color photographs of objects from 10 classes,\n",
        "#such as frogs, birds, cats, ships, etc.\n",
        "#The class labels and their standard associated\n",
        "#integer values are listed below.\n",
        "\n",
        "#0: airplane\n",
        "#1: automobile\n",
        "#2: bird\n",
        "#3: cat\n",
        "#4: deer\n",
        "#5: dog\n",
        "#6: frog\n",
        "#7: horse\n",
        "#8: ship\n",
        "#9: truck\n",
        "\n",
        "(Xtrain, ytrain), (Xtest, ytest) = cifar10.load_data()"
      ]
    },
    {
      "cell_type": "code",
      "source": [
        "print(\"training images shape\", Xtrain.shape, type(Xtrain), Xtrain.dtype)\n",
        "print(\"training labels shape\", ytrain.shape)\n",
        "print(\"testing images shape\", Xtest.shape)\n",
        "print(\"testing labels shape\", ytest.shape)"
      ],
      "metadata": {
        "colab": {
          "base_uri": "https://localhost:8080/"
        },
        "id": "Q7Y4LFtB-em3",
        "outputId": "0af2ab68-9743-4496-b6c9-71e1e8a298b8"
      },
      "execution_count": 7,
      "outputs": [
        {
          "output_type": "stream",
          "name": "stdout",
          "text": [
            "training images shape (50000, 32, 32, 3) <class 'numpy.ndarray'> float32\n",
            "training labels shape (50000, 1)\n",
            "testing images shape (10000, 32, 32, 3)\n",
            "testing labels shape (10000, 1)\n"
          ]
        }
      ]
    },
    {
      "cell_type": "code",
      "source": [
        "#Show sample images\n",
        "plt.figure(1)\n",
        "imgplot1 = plt.imshow(Xtrain[nr.randint(50000)])\n",
        "plt.show()\n",
        "\n",
        "plt.figure(2)\n",
        "imgplot2 = plt.imshow(Xtrain[nr.randint(50000)])\n",
        "plt.show()"
      ],
      "metadata": {
        "colab": {
          "base_uri": "https://localhost:8080/",
          "height": 843
        },
        "id": "ihOJLPu99nLg",
        "outputId": "2870ac52-bf5b-49eb-811f-bc6788b77514"
      },
      "execution_count": 5,
      "outputs": [
        {
          "output_type": "display_data",
          "data": {
            "text/plain": [
              "<Figure size 640x480 with 1 Axes>"
            ],
            "image/png": "[encoded data removed]"
          },
          "metadata": {}
        },
        {
          "output_type": "display_data",
          "data": {
            "text/plain": [
              "<Figure size 640x480 with 1 Axes>"
            ],
            "image/png": "[encoded data removed]"
          },
          "metadata": {}
        }
      ]
    },
    {
      "cell_type": "code",
      "source": [
        "Xtrain = Xtrain.astype('float32')\n",
        "Xtrain = Xtrain/ 255.0\n",
        "Xtest = Xtest.astype('float32')\n",
        "Xtest = Xtest / 255.0\n"
      ],
      "metadata": {
        "id": "c3iJM1HL9uQ3"
      },
      "execution_count": 6,
      "outputs": []
    },
    {
      "cell_type": "code",
      "source": [
        "ytrain = ytrain[:,0]\n",
        "ytrainEnc = tf.one_hot(ytrain, depth=nc)\n",
        "ytest = ytest[:,0]\n",
        "ytestEnc = tf.one_hot(ytest, depth=nc)"
      ],
      "metadata": {
        "id": "1cBhoC9x-MYB"
      },
      "execution_count": 8,
      "outputs": []
    },
    {
      "cell_type": "code",
      "source": [
        "ypred = model.predict(Xtest)\n",
        "ypred = np.argmax(ypred,axis=1)\n",
        "\n",
        "score = accuracy_score(ypred,ytest)\n",
        "print('Accuracy score is',100*score,'%')"
      ],
      "metadata": {
        "id": "RJxIoHMw94mu"
      },
      "execution_count": null,
      "outputs": []
    },
    {
      "cell_type": "code",
      "source": [
        "import matplotlib.pyplot as plt\n",
        "plt.plot(range(1, len(history.history['loss']) + 1), history.history['loss'],'g-',linewidth=3)\n",
        "plt.xlabel('Epochs')\n",
        "plt.ylabel('Training Crossentropy')\n",
        "plt.grid(1,which='both')\n",
        "plt.suptitle('Training Loss vs Epochs')\n",
        "plt.show()\n",
        "\n",
        "import matplotlib.pyplot as plt\n",
        "plt.plot(range(1, len(history.history['loss']) + 1), history.history['accuracy'],'b-',linewidth=3)\n",
        "plt.xlabel('Epochs')\n",
        "plt.ylabel('Training Accuracy')\n",
        "plt.grid(1,which='both')\n",
        "plt.suptitle('Training Accuracy vs Epochs')\n",
        "plt.show()\n",
        "\n",
        "import matplotlib.pyplot as plt\n",
        "plt.plot(range(1, len(history.history['loss']) + 1), history.history['val_loss'],'g-.',linewidth=3)\n",
        "plt.xlabel('Epochs')\n",
        "plt.ylabel('Validation Crossentropy')\n",
        "plt.grid(1,which='both')\n",
        "plt.suptitle('Validation Loss vs Epochs')\n",
        "plt.show()\n",
        "\n",
        "import matplotlib.pyplot as plt\n",
        "plt.plot(range(1, len(history.history['loss']) + 1), history.history['val_accuracy'],'b-.',linewidth=3)\n",
        "plt.xlabel('Epochs')\n",
        "plt.ylabel('Validation Accuracy')\n",
        "plt.grid(1,which='both')\n",
        "plt.suptitle('Validation Accuracy vs Epochs')\n",
        "plt.show()"
      ],
      "metadata": {
        "id": "DqEvsGdG-DVN"
      },
      "execution_count": null,
      "outputs": []
    }
  ]
}
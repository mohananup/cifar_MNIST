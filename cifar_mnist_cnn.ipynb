{
  "nbformat": 4,
  "nbformat_minor": 0,
  "metadata": {
    "colab": {
      "provenance": [],
      "gpuType": "T4",
      "authorship_tag": "ABX9TyM/MuBo/r7iQZmUHbFC17EX",
      "include_colab_link": true
    },
    "kernelspec": {
      "name": "python3",
      "display_name": "Python 3"
    },
    "language_info": {
      "name": "python"
    },
    "accelerator": "GPU"
  },
  "cells": [
    {
      "cell_type": "markdown",
      "metadata": {
        "id": "view-in-github",
        "colab_type": "text"
      },
      "source": [
        "<a href=\"https://colab.research.google.com/github/mohananup/cifar_MNIST/blob/main/cifar_mnist_cnn.ipynb\" target=\"_parent\"><img src=\"https://colab.research.google.com/assets/colab-badge.svg\" alt=\"Open In Colab\"/></a>"
      ]
    },
    {
      "cell_type": "code",
      "source": [
        "import tensorflow as tf\n",
        "from keras.datasets import cifar10\n",
        "import numpy as np\n",
        "import numpy.random as nr\n",
        "import matplotlib.pyplot as plt\n",
        "from keras.models import Sequential\n",
        "from keras.layers import Dense\n",
        "from sklearn.metrics import accuracy_score\n",
        "from keras.layers import Conv2D\n",
        "from keras.layers import BatchNormalization\n",
        "from keras.layers import MaxPooling2D\n",
        "from keras.layers import Flatten\n",
        "from keras.layers import Dropout"
      ],
      "metadata": {
        "id": "yzxQv1LT9XJ5"
      },
      "execution_count": 1,
      "outputs": []
    },
    {
      "cell_type": "code",
      "execution_count": 3,
      "metadata": {
        "id": "9gGlWSet5Bqp"
      },
      "outputs": [],
      "source": [
        "nc = 10 # Number of classes\n",
        "\n",
        "\n",
        "#CIFAR is an acronym that stands for the Canadian\n",
        "#Institute For Advanced Research and the CIFAR-10\n",
        "#dataset was developed along with the CIFAR-100\n",
        "#dataset by researchers at the CIFAR institute.\n",
        "\n",
        "#The dataset is comprised of 60,000 32×32\n",
        "#pixel color photographs of objects from 10 classes,\n",
        "#such as frogs, birds, cats, ships, etc.\n",
        "#The class labels and their standard associated\n",
        "#integer values are listed below.\n",
        "\n",
        "#0: airplane\n",
        "#1: automobile\n",
        "#2: bird\n",
        "#3: cat\n",
        "#4: deer\n",
        "#5: dog\n",
        "#6: frog\n",
        "#7: horse\n",
        "#8: ship\n",
        "#9: truck\n",
        "\n",
        "(Xtrain, ytrain), (Xtest, ytest) = cifar10.load_data()"
      ]
    },
    {
      "cell_type": "code",
      "source": [
        "print(\"training images shape\", Xtrain.shape, type(Xtrain), Xtrain.dtype)\n",
        "print(\"training labels shape\", ytrain.shape)\n",
        "print(\"testing images shape\", Xtest.shape)\n",
        "print(\"testing labels shape\", ytest.shape)"
      ],
      "metadata": {
        "colab": {
          "base_uri": "https://localhost:8080/"
        },
        "id": "Q7Y4LFtB-em3",
        "outputId": "0af2ab68-9743-4496-b6c9-71e1e8a298b8"
      },
      "execution_count": 7,
      "outputs": [
        {
          "output_type": "stream",
          "name": "stdout",
          "text": [
            "training images shape (50000, 32, 32, 3) <class 'numpy.ndarray'> float32\n",
            "training labels shape (50000, 1)\n",
            "testing images shape (10000, 32, 32, 3)\n",
            "testing labels shape (10000, 1)\n"
          ]
        }
      ]
    },
    {
      "cell_type": "code",
      "source": [
        "#Show sample images\n",
        "plt.figure(1)\n",
        "imgplot1 = plt.imshow(Xtrain[nr.randint(50000)])\n",
        "plt.show()\n",
        "\n",
        "plt.figure(2)\n",
        "imgplot2 = plt.imshow(Xtrain[nr.randint(50000)])\n",
        "plt.show()"
      ],
      "metadata": {
        "id": "ihOJLPu99nLg"
      },
      "execution_count": null,
      "outputs": []
    },
    {
      "cell_type": "code",
      "source": [
        "Xtrain = Xtrain.astype('float32')\n",
        "Xtrain = Xtrain/ 255.0\n",
        "Xtest = Xtest.astype('float32')\n",
        "Xtest = Xtest / 255.0\n"
      ],
      "metadata": {
        "id": "c3iJM1HL9uQ3"
      },
      "execution_count": 6,
      "outputs": []
    },
    {
      "cell_type": "code",
      "source": [
        "model = Sequential()\n",
        "\n",
        "# First Convolutional Block\n",
        "model.add(Conv2D(32, (3, 3), activation='relu', padding='same', input_shape=(32, 32, 3)))\n",
        "model.add(BatchNormalization())\n",
        "model.add(Conv2D(32, (3, 3), activation='relu', padding='same'))\n",
        "model.add(BatchNormalization())\n",
        "model.add(MaxPooling2D((2, 2)))\n",
        "model.add(Dropout(0.3))\n",
        "\n",
        "# Second Convolutional Block\n",
        "model.add(Conv2D(64, (3, 3), activation='relu', padding='same'))\n",
        "model.add(BatchNormalization())\n",
        "model.add(Conv2D(64, (3, 3), activation='relu', padding='same'))\n",
        "model.add(BatchNormalization())\n",
        "model.add(MaxPooling2D((2, 2)))\n",
        "model.add(Dropout(0.5))\n",
        "\n",
        "# Third Convolutional Block\n",
        "model.add(Conv2D(128, (3, 3), activation='relu', padding='same'))\n",
        "model.add(BatchNormalization())\n",
        "model.add(Conv2D(128, (3, 3), activation='relu', padding='same'))\n",
        "model.add(BatchNormalization())\n",
        "model.add(MaxPooling2D((2, 2)))\n",
        "model.add(Dropout(0.5))\n",
        "\n",
        "# Fully Connected Layers\n",
        "model.add(Flatten())\n",
        "model.add(Dense(128, activation='relu'))\n",
        "model.add(BatchNormalization())\n",
        "model.add(Dropout(0.5))\n",
        "model.add(Dense(10, activation='softmax'))  # Assuming 10 classes for output\n"
      ],
      "metadata": {
        "colab": {
          "base_uri": "https://localhost:8080/"
        },
        "id": "wnFtouhOMsgB",
        "outputId": "d4297c08-cb2a-413e-ea26-a90ccbd9fcc1"
      },
      "execution_count": 9,
      "outputs": [
        {
          "output_type": "stream",
          "name": "stderr",
          "text": [
            "/usr/local/lib/python3.10/dist-packages/keras/src/layers/convolutional/base_conv.py:107: UserWarning: Do not pass an `input_shape`/`input_dim` argument to a layer. When using Sequential models, prefer using an `Input(shape)` object as the first layer in the model instead.\n",
            "  super().__init__(activity_regularizer=activity_regularizer, **kwargs)\n"
          ]
        }
      ]
    },
    {
      "cell_type": "code",
      "source": [
        "model.compile(optimizer='adam',\n",
        "              loss='sparse_categorical_crossentropy',\n",
        "              metrics=['accuracy'])\n",
        "\n",
        "# Fit the model\n",
        "history = model.fit(Xtrain, ytrain, epochs=100, validation_data=(Xtest, ytest))\n"
      ],
      "metadata": {
        "id": "5OHpiKcxNAp5"
      },
      "execution_count": null,
      "outputs": []
    },
    {
      "cell_type": "code",
      "source": [
        "import matplotlib.pyplot as plt\n",
        "plt.plot(range(1, len(history.history['loss']) + 1), history.history['loss'],'g-',linewidth=3)\n",
        "plt.xlabel('Epochs')\n",
        "plt.ylabel('Training Crossentropy')\n",
        "plt.grid(1,which='both')\n",
        "plt.suptitle('Training Loss vs Epochs')\n",
        "plt.show()\n",
        "\n",
        "import matplotlib.pyplot as plt\n",
        "plt.plot(range(1, len(history.history['loss']) + 1), history.history['accuracy'],'b-',linewidth=3)\n",
        "plt.xlabel('Epochs')\n",
        "plt.ylabel('Training Accuracy')\n",
        "plt.grid(1,which='both')\n",
        "plt.suptitle('Training Accuracy vs Epochs')\n",
        "plt.show()\n",
        "\n",
        "import matplotlib.pyplot as plt\n",
        "plt.plot(range(1, len(history.history['loss']) + 1), history.history['val_loss'],'g-.',linewidth=3)\n",
        "plt.xlabel('Epochs')\n",
        "plt.ylabel('Validation Crossentropy')\n",
        "plt.grid(1,which='both')\n",
        "plt.suptitle('Validation Loss vs Epochs')\n",
        "plt.show()\n",
        "\n",
        "import matplotlib.pyplot as plt\n",
        "plt.plot(range(1, len(history.history['loss']) + 1), history.history['val_accuracy'],'b-.',linewidth=3)\n",
        "plt.xlabel('Epochs')\n",
        "plt.ylabel('Validation Accuracy')\n",
        "plt.grid(1,which='both')\n",
        "plt.suptitle('Validation Accuracy vs Epochs')\n",
        "plt.show()"
      ],
      "metadata": {
        "id": "DqEvsGdG-DVN"
      },
      "execution_count": null,
      "outputs": []
    }
  ]
}